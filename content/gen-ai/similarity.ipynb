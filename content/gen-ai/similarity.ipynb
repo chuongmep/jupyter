{
 "cells": [
  {
   "cell_type": "code",
   "execution_count": 1,
   "metadata": {},
   "outputs": [
    {
     "name": "stdout",
     "output_type": "stream",
     "text": [
      "Similarity Matrix:\n",
      "[[1. 0. 0. 0. 0. 0. 0.]\n",
      " [0. 1. 0. 0. 0. 0. 0.]\n",
      " [0. 0. 1. 0. 0. 0. 0.]\n",
      " [0. 0. 0. 1. 0. 0. 0.]\n",
      " [0. 0. 0. 0. 1. 0. 0.]\n",
      " [0. 0. 0. 0. 0. 1. 0.]\n",
      " [0. 0. 0. 0. 0. 0. 1.]]\n"
     ]
    }
   ],
   "source": [
    "import numpy as np\n",
    "\n",
    "def simrank(graph, C, max_iterations=10, epsilon=1e-4):\n",
    "    # Initialize the similarity matrix with zeros\n",
    "    num_nodes = len(graph)\n",
    "    S = np.zeros((num_nodes, num_nodes))\n",
    "\n",
    "    for i in range(num_nodes):\n",
    "        for j in range(num_nodes):\n",
    "            if i == j:\n",
    "                S[i][j] = 1.0  # Similarity of a node to itself is 1.0\n",
    "\n",
    "    for iteration in range(max_iterations):\n",
    "        S_prev = S.copy()\n",
    "        for i in range(num_nodes):\n",
    "            for j in range(num_nodes):\n",
    "                if i != j:\n",
    "                    # Calculate the similarity between nodes i and j\n",
    "                    sim = 0.0\n",
    "                    for u in range(num_nodes):\n",
    "                        for v in range(num_nodes):\n",
    "                            if u != v:\n",
    "                                in_neighbors_i = set(graph[i])  # In-neighbors of node i\n",
    "                                in_neighbors_j = set(graph[j])  # In-neighbors of node j\n",
    "                                common_neighbors = len(in_neighbors_i & in_neighbors_j)  # Common in-neighbors\n",
    "                                sim += (C / (len(in_neighbors_i) * len(in_neighbors_j))) * common_neighbors * S_prev[u][v]\n",
    "                    \n",
    "                    S[i][j] = sim\n",
    "\n",
    "        # Check for convergence\n",
    "        if np.allclose(S, S_prev, atol=epsilon):\n",
    "            break\n",
    "\n",
    "    return S\n",
    "\n",
    "# Example usage\n",
    "graph = {\n",
    "    0: [1, 2, 3],\n",
    "    1: [0, 4],\n",
    "    2: [0, 4],\n",
    "    3: [0, 5],\n",
    "    4: [1, 2, 6],\n",
    "    5: [3, 6],\n",
    "    6: [4, 5]\n",
    "}\n",
    "\n",
    "C = 0.8  # Decay factor\n",
    "similarity_matrix = simrank(graph, C)\n",
    "\n",
    "# Print the similarity matrix\n",
    "print(\"Similarity Matrix:\")\n",
    "print(similarity_matrix)"
   ]
  },
  {
   "cell_type": "markdown",
   "metadata": {},
   "source": [
    "$$\n",
    "\\text{Cosine Similarity} = \\frac{\\sum_{i=1}^{n} (A_i \\cdot B_i)}{\\sqrt{\\sum_{i=1}^{n} (A_i^2)} \\cdot \\sqrt{\\sum_{i=1}^{n} (B_i^2)}}\n",
    "$$\n"
   ]
  },
  {
   "cell_type": "code",
   "execution_count": 13,
   "metadata": {},
   "outputs": [
    {
     "name": "stdout",
     "output_type": "stream",
     "text": [
      "Similarity between nodes 0 and 1:\n",
      "Cosine Similarity: 0.9746318461970762\n"
     ]
    }
   ],
   "source": [
    "# Similarity by string pairs\n",
    "print(\"Similarity between nodes 0 and 1:\")\n",
    "text1 = \"I like to eat broccoli and bananas.\"\n",
    "text2 = \"I ate a banana and spinach smoothie for breakfast.\"\n",
    "# algorithm cosine similarity without library\n",
    "import math\n",
    "\n",
    "def dot_product(v1, v2):\n",
    "    return sum(x * y for x, y in zip(v1, v2))\n",
    "\n",
    "def magnitude(vector):\n",
    "    return math.sqrt(sum(x ** 2 for x in vector))\n",
    "\n",
    "def cosine_similarity(vec1, vec2):\n",
    "    if len(vec1) != len(vec2):\n",
    "        raise ValueError(\"Vector dimensions must be the same\")\n",
    "\n",
    "    dot_product_value = dot_product(vec1, vec2)\n",
    "    magnitude_vec1 = magnitude(vec1)\n",
    "    magnitude_vec2 = magnitude(vec2)\n",
    "\n",
    "    if magnitude_vec1 == 0 or magnitude_vec2 == 0:\n",
    "        return 0  # To avoid division by zero\n",
    "\n",
    "    return dot_product_value / (magnitude_vec1 * magnitude_vec2)\n",
    "\n",
    "# Example usage:\n",
    "vector1 = [1, 2, 3]\n",
    "vector2 = [4, 5, 6]\n",
    "\n",
    "similarity = cosine_similarity(vector1, vector2)\n",
    "print(f\"Cosine Similarity: {similarity}\")\n",
    "   \n"
   ]
  }
 ],
 "metadata": {
  "kernelspec": {
   "display_name": "Python 3",
   "language": "python",
   "name": "python3"
  },
  "language_info": {
   "codemirror_mode": {
    "name": "ipython",
    "version": 3
   },
   "file_extension": ".py",
   "mimetype": "text/x-python",
   "name": "python",
   "nbconvert_exporter": "python",
   "pygments_lexer": "ipython3",
   "version": "3.11.5"
  }
 },
 "nbformat": 4,
 "nbformat_minor": 2
}

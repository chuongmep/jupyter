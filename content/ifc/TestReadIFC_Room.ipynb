{
 "cells": [
  {
   "cell_type": "code",
   "execution_count": 4,
   "metadata": {},
   "outputs": [
    {
     "name": "stdout",
     "output_type": "stream",
     "text": [
      "Requirement already satisfied: ifcopenshell in c:\\users\\vho2\\appdata\\local\\programs\\python\\python311\\lib\\site-packages (0.7.0.231018)\n",
      "Note: you may need to restart the kernel to use updated packages.\n"
     ]
    },
    {
     "name": "stderr",
     "output_type": "stream",
     "text": [
      "\n",
      "[notice] A new release of pip is available: 23.2.1 -> 23.3.1\n",
      "[notice] To update, run: python.exe -m pip install --upgrade pip\n"
     ]
    }
   ],
   "source": [
    "%pip install ifcopenshell"
   ]
  },
  {
   "cell_type": "code",
   "execution_count": 5,
   "metadata": {},
   "outputs": [],
   "source": [
    "import ifcopenshell"
   ]
  },
  {
   "cell_type": "code",
   "execution_count": 6,
   "metadata": {},
   "outputs": [
    {
     "data": {
      "text/plain": [
       "#175=IfcSpace('0T_aaLK$L7muvqj8dunBeW',#18,'A001',$,$,#166,#174,'Sleep',.ELEMENT.,.SPACE.,$)"
      ]
     },
     "execution_count": 6,
     "metadata": {},
     "output_type": "execute_result"
    }
   ],
   "source": [
    "filepath = r\"../data/MyHouse.ifc\"\n",
    "ifc_file = ifcopenshell.open(filepath)\n",
    "# filter get all spaces\n",
    "spaces = ifc_file.by_type(\"IfcSpace\")\n",
    "space = spaces[0]\n",
    "space"
   ]
  },
  {
   "cell_type": "code",
   "execution_count": 7,
   "metadata": {},
   "outputs": [
    {
     "data": {
      "text/plain": [
       "{'id': 175,\n",
       " 'type': 'IfcSpace',\n",
       " 'GlobalId': '0T_aaLK$L7muvqj8dunBeW',\n",
       " 'OwnerHistory': #18=IfcOwnerHistory(#17,#2,$,.NOCHANGE.,$,$,$,1240428288),\n",
       " 'Name': 'A001',\n",
       " 'Description': None,\n",
       " 'ObjectType': None,\n",
       " 'ObjectPlacement': #166=IfcLocalPlacement(#149,#165),\n",
       " 'Representation': #174=IfcProductDefinitionShape($,$,(#173)),\n",
       " 'LongName': 'Sleep',\n",
       " 'CompositionType': 'ELEMENT',\n",
       " 'PredefinedType': 'SPACE',\n",
       " 'ElevationWithFlooring': None}"
      ]
     },
     "execution_count": 7,
     "metadata": {},
     "output_type": "execute_result"
    }
   ],
   "source": [
    "## show all properties name and value of space\n",
    "space.get_info()\n"
   ]
  },
  {
   "cell_type": "code",
   "execution_count": 8,
   "metadata": {},
   "outputs": [
    {
     "data": {
      "text/plain": [
       "'A001'"
      ]
     },
     "execution_count": 8,
     "metadata": {},
     "output_type": "execute_result"
    }
   ],
   "source": [
    "## get space name\n",
    "space.Name"
   ]
  },
  {
   "cell_type": "code",
   "execution_count": 9,
   "metadata": {},
   "outputs": [
    {
     "name": "stdout",
     "output_type": "stream",
     "text": [
      "Parameter Category: Pset_AirSideSystemInformation\n",
      "Name : Sleep\n",
      "id : 178\n",
      "Parameter Category: Pset_SpaceCommon\n",
      "Reference : Sleep A001\n",
      "IsExternal : False\n",
      "id : 181\n",
      "Parameter Category: Pset_SpaceHeaterTypeCommon\n",
      "Reference : Sleep A001\n",
      "id : 182\n"
     ]
    }
   ],
   "source": [
    "## Get all properties of space\n",
    "psets = ifcopenshell.util.element.get_psets(space)\n",
    "def print_properties(properties):\n",
    "    \n",
    "    for name, value in properties.items():\n",
    "        if isinstance(value, dict):\n",
    "            print(\"Parameter Category:\", name)\n",
    "            print_properties(value)\n",
    "        else:\n",
    "            print(name, \":\", value)\n",
    "print_properties(psets)"
   ]
  },
  {
   "cell_type": "code",
   "execution_count": 10,
   "metadata": {},
   "outputs": [
    {
     "data": {
      "text/plain": [
       "(8824.216571156168, 2376.1560891125855, 0.0)"
      ]
     },
     "execution_count": 10,
     "metadata": {},
     "output_type": "execute_result"
    }
   ],
   "source": [
    "space.Representation.Representations[0].Items[0].Position.Location.Coordinates"
   ]
  },
  {
   "cell_type": "code",
   "execution_count": 11,
   "metadata": {},
   "outputs": [
    {
     "data": {
      "text/plain": [
       "((-719.6666666666697, -1600.1999999999998),\n",
       " (1769.533333333332, -1600.1999999999998),\n",
       " (1769.5333333333397, 1498.6000000000006),\n",
       " (-1049.8666666666716, 1498.6000000000001),\n",
       " (-1049.8666666666666, 101.60000000000005),\n",
       " (-719.666666666666, 101.59999999999958),\n",
       " (-719.6666666666697, -1600.1999999999998))"
      ]
     },
     "execution_count": 11,
     "metadata": {},
     "output_type": "execute_result"
    }
   ],
   "source": [
    "arr_pts = space.Representation.Representations[0].Items[0].SweptArea.OuterCurve.Points.CoordList\n",
    "# create dataframe show the points x,y,z\n",
    "arr_pts"
   ]
  },
  {
   "cell_type": "code",
   "execution_count": 12,
   "metadata": {},
   "outputs": [
    {
     "data": {
      "text/plain": [
       "3048.0"
      ]
     },
     "execution_count": 12,
     "metadata": {},
     "output_type": "execute_result"
    }
   ],
   "source": [
    "arr_pts = space.Representation.Representations[0].Items[0].Depth\n",
    "# create dataframe show the points x,y,z\n",
    "arr_pts"
   ]
  },
  {
   "cell_type": "code",
   "execution_count": 13,
   "metadata": {},
   "outputs": [
    {
     "data": {
      "text/plain": [
       "['Depth',\n",
       " 'ExtrudedDirection',\n",
       " 'LayerAssignment',\n",
       " 'Position',\n",
       " 'StyledByItem',\n",
       " 'SweptArea',\n",
       " '__class__',\n",
       " '__del__',\n",
       " '__delattr__',\n",
       " '__dict__',\n",
       " '__dir__',\n",
       " '__doc__',\n",
       " '__eq__',\n",
       " '__format__',\n",
       " '__ge__',\n",
       " '__getattr__',\n",
       " '__getattribute__',\n",
       " '__getitem__',\n",
       " '__getstate__',\n",
       " '__gt__',\n",
       " '__hash__',\n",
       " '__init__',\n",
       " '__init_subclass__',\n",
       " '__le__',\n",
       " '__len__',\n",
       " '__lt__',\n",
       " '__module__',\n",
       " '__ne__',\n",
       " '__new__',\n",
       " '__reduce__',\n",
       " '__reduce_ex__',\n",
       " '__repr__',\n",
       " '__rge__',\n",
       " '__rgt__',\n",
       " '__rle__',\n",
       " '__rlt__',\n",
       " '__setattr__',\n",
       " '__setitem__',\n",
       " '__sizeof__',\n",
       " '__str__',\n",
       " '__subclasshook__',\n",
       " '__weakref__',\n",
       " 'attribute_name',\n",
       " 'attribute_type',\n",
       " 'compare',\n",
       " 'file',\n",
       " 'get_info',\n",
       " 'get_info_2',\n",
       " 'id',\n",
       " 'is_a',\n",
       " 'is_entity',\n",
       " 'to_string',\n",
       " 'unwrap_value',\n",
       " 'walk',\n",
       " 'wrap_value']"
      ]
     },
     "execution_count": 13,
     "metadata": {},
     "output_type": "execute_result"
    }
   ],
   "source": [
    "dir(space.Representation.Representations[0].Items[0])"
   ]
  }
 ],
 "metadata": {
  "kernelspec": {
   "display_name": "Python 3",
   "language": "python",
   "name": "python3"
  },
  "language_info": {
   "codemirror_mode": {
    "name": "ipython",
    "version": 3
   },
   "file_extension": ".py",
   "mimetype": "text/x-python",
   "name": "python",
   "nbconvert_exporter": "python",
   "pygments_lexer": "ipython3",
   "version": "3.11.4"
  }
 },
 "nbformat": 4,
 "nbformat_minor": 2
}
